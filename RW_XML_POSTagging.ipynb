{
 "cells": [
  {
   "cell_type": "code",
   "execution_count": 1,
   "metadata": {},
   "outputs": [
    {
     "ename": "NameError",
     "evalue": "name '__file__' is not defined",
     "output_type": "error",
     "traceback": [
      "\u001b[1;31m---------------------------------------------------------------------------\u001b[0m",
      "\u001b[1;31mNameError\u001b[0m                                 Traceback (most recent call last)",
      "\u001b[1;32m<ipython-input-1-7b319fbe934f>\u001b[0m in \u001b[0;36m<module>\u001b[1;34m()\u001b[0m\n\u001b[0;32m      3\u001b[0m \u001b[1;32mimport\u001b[0m \u001b[0mnltk\u001b[0m\u001b[1;33m\u001b[0m\u001b[0m\n\u001b[0;32m      4\u001b[0m \u001b[1;33m\u001b[0m\u001b[0m\n\u001b[1;32m----> 5\u001b[1;33m \u001b[0mbase_path\u001b[0m \u001b[1;33m=\u001b[0m \u001b[0mos\u001b[0m\u001b[1;33m.\u001b[0m\u001b[0mpath\u001b[0m\u001b[1;33m.\u001b[0m\u001b[0mdirname\u001b[0m\u001b[1;33m(\u001b[0m\u001b[0mos\u001b[0m\u001b[1;33m.\u001b[0m\u001b[0mpath\u001b[0m\u001b[1;33m.\u001b[0m\u001b[0mrealpath\u001b[0m\u001b[1;33m(\u001b[0m\u001b[0m__file__\u001b[0m\u001b[1;33m)\u001b[0m\u001b[1;33m)\u001b[0m\u001b[1;33m\u001b[0m\u001b[0m\n\u001b[0m\u001b[0;32m      6\u001b[0m \u001b[1;31m#print(base_path)  print current directory address\u001b[0m\u001b[1;33m\u001b[0m\u001b[1;33m\u001b[0m\u001b[0m\n\u001b[0;32m      7\u001b[0m \u001b[1;33m\u001b[0m\u001b[0m\n",
      "\u001b[1;31mNameError\u001b[0m: name '__file__' is not defined"
     ]
    }
   ],
   "source": [
    "import os\n",
    "import xml.etree.ElementTree as et\n",
    "import nltk\n",
    "\n",
    "from nltk import pos_tag\n",
    "from nltk.tagger import CRFTagger\n",
    "from nltk.tokenize import word_tokenize\n",
    "\n",
    "base_path = os.path.dirname(os.path.realpath(__file__))\n",
    "#print(base_path)  print current directory address\n",
    "\n",
    "xml_file = os.path.join(base_path, \"training_set_SentenceCleaned.xml\")\n",
    "#print(xml_file) \n",
    "\n",
    "tree = et.parse(xml_file)\n",
    "\n",
    "root = tree.getroot()\n",
    "\n",
    "#[1,2,3,4] list\n",
    "\n",
    "#[1,2,3,4] list\n",
    "\n",
    "for reviewElement in root:\n",
    "\n",
    "    #print(reviewElement.tag,reviewElement.attrib)\n",
    "    newSentencesEl = et.Element('sentences')\n",
    "    reviewElement.insert(1,newSentencesEl)\n",
    "    for subChild in reviewElement:\n",
    "        #print(subChild.tag,subChild.attrib)\n",
    "        if subChild.tag == 'cleansentence':\n",
    "           reviewTextContent = subChild.text.split('.')\n",
    "           attrNum = 1\n",
    "           for sentenceNumber in range(0,len(reviewTextContent)):\n",
    "               if len(reviewTextContent[sentenceNumber]) != 0: \n",
    "                   word_tokens = word_tokenize(reviewTextContent[sentenceNumber].strip())\n",
    "                   # POS Tagging with CRFTagger in Indonesian\n",
    "                   ct = CRFTagger()\n",
    "                   ct.set_model_file\n",
    "                   #POS Tagging in English\n",
    "                   nltk.pos_tag(word_tokens)\n",
    "\t\t\t\t   "
   ]
  },
  {
   "cell_type": "code",
   "execution_count": null,
   "metadata": {},
   "outputs": [],
   "source": []
  }
 ],
 "metadata": {
  "kernelspec": {
   "display_name": "Python 3",
   "language": "python",
   "name": "python3"
  },
  "language_info": {
   "codemirror_mode": {
    "name": "ipython",
    "version": 3
   },
   "file_extension": ".py",
   "mimetype": "text/x-python",
   "name": "python",
   "nbconvert_exporter": "python",
   "pygments_lexer": "ipython3",
   "version": "3.6.4"
  }
 },
 "nbformat": 4,
 "nbformat_minor": 2
}
