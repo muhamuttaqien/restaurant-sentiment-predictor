{
 "cells": [
  {
   "cell_type": "code",
   "execution_count": 1,
   "metadata": {},
   "outputs": [
    {
     "ename": "ModuleNotFoundError",
     "evalue": "No module named 'nltk.tagger'",
     "output_type": "error",
     "traceback": [
      "\u001b[1;31m---------------------------------------------------------------------------\u001b[0m",
      "\u001b[1;31mModuleNotFoundError\u001b[0m                       Traceback (most recent call last)",
      "\u001b[1;32m<ipython-input-1-01be31a1b54c>\u001b[0m in \u001b[0;36m<module>\u001b[1;34m()\u001b[0m\n\u001b[0;32m      4\u001b[0m \u001b[1;33m\u001b[0m\u001b[0m\n\u001b[0;32m      5\u001b[0m \u001b[1;32mfrom\u001b[0m \u001b[0mnltk\u001b[0m \u001b[1;32mimport\u001b[0m \u001b[0mpos_tag\u001b[0m\u001b[1;33m\u001b[0m\u001b[0m\n\u001b[1;32m----> 6\u001b[1;33m \u001b[1;32mfrom\u001b[0m \u001b[0mnltk\u001b[0m\u001b[1;33m.\u001b[0m\u001b[0mtagger\u001b[0m \u001b[1;32mimport\u001b[0m \u001b[0mCRFTagger\u001b[0m\u001b[1;33m\u001b[0m\u001b[0m\n\u001b[0m\u001b[0;32m      7\u001b[0m \u001b[1;32mfrom\u001b[0m \u001b[0mnltk\u001b[0m\u001b[1;33m.\u001b[0m\u001b[0mtokenize\u001b[0m \u001b[1;32mimport\u001b[0m \u001b[0mword_tokenize\u001b[0m\u001b[1;33m\u001b[0m\u001b[0m\n\u001b[0;32m      8\u001b[0m \u001b[1;33m\u001b[0m\u001b[0m\n",
      "\u001b[1;31mModuleNotFoundError\u001b[0m: No module named 'nltk.tagger'"
     ]
    }
   ],
   "source": [
    "import os\n",
    "import xml.etree.ElementTree as et\n",
    "import nltk\n",
    "\n",
    "from nltk import pos_tag\n",
    "from nltk.tagger import CRFTagger\n",
    "from nltk.tokenize import word_tokenize\n",
    "\n",
    "tree = et.parse(\"training_set_SentenceCleaned.xml\")\n",
    "\n",
    "root = tree.getroot()\n",
    "\n",
    "#[1,2,3,4] list\n",
    "\n",
    "#[1,2,3,4] list\n",
    "\n",
    "for reviewElement in root:\n",
    "\n",
    "    #print(reviewElement.tag,reviewElement.attrib)\n",
    "    newSentencesEl = et.Element('sentences')\n",
    "    reviewElement.insert(1,newSentencesEl)\n",
    "    for subChild in reviewElement:\n",
    "        #print(subChild.tag,subChild.attrib)\n",
    "        if subChild.tag == 'cleansentence':\n",
    "           reviewTextContent = subChild.text.split('.')\n",
    "           attrNum = 1\n",
    "           for sentenceNumber in range(0,len(reviewTextContent)):\n",
    "               if len(reviewTextContent[sentenceNumber]) != 0: \n",
    "                   word_tokens = word_tokenize(reviewTextContent[sentenceNumber].strip())\n",
    "                   # POS Tagging with CRFTagger in Indonesian\n",
    "                   ct = CRFTagger()\n",
    "                   ct.set_model_file('all_indo_man_tag_corpus_model.crf.tagger')\n",
    "                   tag_indo = ct.tag_sents(word_tokens)\n",
    "                   #POS Tagging in English\n",
    "                   tag_eng = nltk.pos_tag(word_tokens)\n",
    "\t\t\t\t   "
   ]
  },
  {
   "cell_type": "code",
   "execution_count": null,
   "metadata": {},
   "outputs": [],
   "source": []
  }
 ],
 "metadata": {
  "kernelspec": {
   "display_name": "Python 3",
   "language": "python",
   "name": "python3"
  },
  "language_info": {
   "codemirror_mode": {
    "name": "ipython",
    "version": 3
   },
   "file_extension": ".py",
   "mimetype": "text/x-python",
   "name": "python",
   "nbconvert_exporter": "python",
   "pygments_lexer": "ipython3",
   "version": "3.6.4"
  }
 },
 "nbformat": 4,
 "nbformat_minor": 2
}
