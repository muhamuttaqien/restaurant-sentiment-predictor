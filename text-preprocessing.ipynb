{
 "cells": [
  {
   "cell_type": "markdown",
   "metadata": {},
   "source": [
    "# Reviews Data Processing"
   ]
  },
  {
   "cell_type": "markdown",
   "metadata": {},
   "source": [
    "written by: Muhammad Angga Muttaqien | muha.muttaqien@gmail.com"
   ]
  },
  {
   "cell_type": "markdown",
   "metadata": {},
   "source": [
    "## Data Preparation"
   ]
  },
  {
   "cell_type": "code",
   "execution_count": 1,
   "metadata": {
    "collapsed": true
   },
   "outputs": [],
   "source": [
    "import os\n",
    "import re, string, unicodedata\n",
    "import nltk\n",
    "import Sastrawi\n",
    "import contractions\n",
    "import inflect\n",
    "import itertools\n",
    "import pandas as pd\n",
    "import matplotlib.pyplot as plt\n",
    "\n",
    "from bs4 import BeautifulSoup\n",
    "from nltk import word_tokenize, sent_tokenize\n",
    "from nltk.tokenize import TweetTokenizer\n",
    "from nltk.corpus import stopwords\n",
    "from nltk.stem import LancasterStemmer, WordNetLemmatizer\n",
    "\n",
    "# for processing indonesian text\n",
    "from Sastrawi.Stemmer.StemmerFactory import StemmerFactory\n",
    "from Sastrawi.StopWordRemover.StopWordRemoverFactory import StopWordRemoverFactory"
   ]
  },
  {
   "cell_type": "code",
   "execution_count": 2,
   "metadata": {
    "collapsed": true
   },
   "outputs": [],
   "source": [
    "# my own stemmer\n",
    "from stemmer import IndonesianStemmer\n",
    "from stemmer import EnglishStemmer"
   ]
  },
  {
   "cell_type": "markdown",
   "metadata": {},
   "source": [
    "#### XML Processing"
   ]
  },
  {
   "cell_type": "code",
   "execution_count": 3,
   "metadata": {
    "collapsed": true
   },
   "outputs": [],
   "source": [
    "import xml.etree.ElementTree as et"
   ]
  },
  {
   "cell_type": "code",
   "execution_count": 4,
   "metadata": {
    "collapsed": true
   },
   "outputs": [],
   "source": [
    "tree = et.parse('./datasets/training_set.xml')\n",
    "root = tree.getroot()"
   ]
  },
  {
   "cell_type": "code",
   "execution_count": 5,
   "metadata": {
    "collapsed": true
   },
   "outputs": [],
   "source": [
    "reviews_corpus = []\n",
    "\n",
    "# grab all XML contents\n",
    "for review in root.findall('review'):\n",
    "    rid = review.get('rid')\n",
    "    text = review.find('text').text \n",
    "    \n",
    "    for aspects in review.findall('aspects'):\n",
    "        id = aspects.get('id')\n",
    "        for aspect in aspects.findall('aspect'):\n",
    "            category = aspect.get('category')\n",
    "            polarity = aspect.get('polarity')\n",
    "            \n",
    "            # text_corpus = id + \" | \" + category + \" - \" + polarity + \" | \" + text\n",
    "            # reviews_corpus.append(text_corpus)\n",
    "            \n",
    "    reviews_corpus.append(text)"
   ]
  },
  {
   "cell_type": "code",
   "execution_count": 6,
   "metadata": {
    "collapsed": true,
    "scrolled": false
   },
   "outputs": [],
   "source": [
    "reviews_corpus = reviews_corpus[0:50]"
   ]
  },
  {
   "cell_type": "code",
   "execution_count": 7,
   "metadata": {
    "scrolled": true
   },
   "outputs": [
    {
     "name": "stdout",
     "output_type": "stream",
     "text": [
      "1) I love the concept. I feel like in swiss traditional market. The place is amazing. The food is awesome. But, in my opinion, they need to make a change/rotation in menu or even new menu. I choose this place for lunch frequently. Sometimes I feel bored with the menu.  Overall, thanks Marche for the delicious food, also the nice place.\n",
      "\n",
      "2) Sengaja macet2an kesini cuman buat nyobain nasi goreng cakalang yang orang2 bilang enak. Dan emang beneran enak sih nasi gorengnya wkkw suasana nya juga enak buat makan ramai2 gitu.\n",
      "\n",
      "3) Suka sama bebek ini karna dulu d ajak tmn makan di sini, ehh malah jd ketagihan sama dagingnya yg empuk dan sambel mentah nya yg dasyatttt    Dulu tempatnya masih tenda, sekarang udh ada kiosnya, kursinya lumayan banyak ada toilet nya juga..    Kalo makan bebek ini selalu order dua bebek, nasi uduk, sate rempela, sambel mentah ekstra pedas dan es teh manis, sambel mentah nya bisa request pedasnya..\n",
      "\n",
      "4) Very good and very delish!!! Gokils deh enaknya... Highly Recommended. Gyutan - semur iga sapi - ayam panggang very good and all the desserts also very good..\n",
      "\n",
      "5) Best place to date someone. Good ambiance nice interior. Decent price (used to be)  Best hamburger but my favorite are their alfredo or carbonara  Prince house seharusnya saya rate 5.0  Its just their affordable waffle no longer there, the price is not worth anymore.\n",
      "\n",
      "6) Tempat dessert kelapa yang fresh banget! Kalo kesini paling suka beli coco pouchnya sambil ngobrol\"\" sama temen\"\".. Harga nya bersahabat banget, dan lumayan banyak isi coco pouch nya..  Paling suka coco pouch rasa honeydew asanya seger bangettt~ bener\"\" energy potion!\n",
      "\n",
      "7) Tryin menya sakura ramen for the first time with bunch of my friends. First we're bit doubting but the sign in front of resto quite big sayin that \"\" Japan no 1 Ramen\"\", so we decided to give it a try. Most of us tryin the tonkotsu ramen dan the spicy one. The broth was quite thick than other ramen resto but the meat was so moist and tender so it well combination. Surely come again 👌👌👌\n",
      "\n",
      "8) Tadi gue first time lewat Beji pas lewat dpn cafe ini, gue lgsng trtarik buat dtg  Karna baru bgt buka.  Gue mesen beberapa makanan yaitu roti choco crunch , sossis and potato pke sauce bbq apa tau namanya lupa, sm pizza mie pake topping smoked beef.  Gilak gue rasa utk servis msh hrs byk belajar deh, gak kyk td pelayannya gak peka.  Masih kaku gt. Terus masa gue dah hampir 30menit lama gak ada satupun mknan yg dtg.  Trs cwok gue manggil waittersnya nanya mknannya dah jd apa belum, dan mas2 nya blg \"\"maaf ya mas td kita bingung cari yg mesen\"\" buset deh trnyata bener meja sblah gue kyknya dah mulai bosen.  Pelayannya pun terlihat pd masih kebingungan.  So klo mnrt gue dri segi makanan sih lumayan, service dan prosedur pelayanannya sih yg mesti jd concern, kliatan bgt blm ready.  Pdhal tempatnya dah keren, luas bgt. Interiornya keren.  Smga bisa terus maju.\n",
      "\n",
      "9) Cheese cake nya juara. Lembut. Tempatnya enak, cozy, parkirannya pun lumayan luas.\n",
      "\n",
      "10) Been here twice and waktu itu gue ke sini pas udah rada malem. As you know Wargih ini selalu rame gapernah sepi,\n",
      "\n",
      "11) Great concept relatable with its name 'Marche'. The food varieties arent that many. I always come here only for the roasted chicken, because the price isn't high at all. Good interior.\n",
      "\n",
      "12) Best bingsu yg pernah gue coba! Paling mirip sama aslinya yg di korea! Pesen patbingsu, shaved icenya kerasa bgt milknya dan red beannya bukan yg kasar tapi yg halus emang khas koreanya bgt. Untuk bungeoppangnya sih so so terlalu banyak tepungnya... tapi buat bingsunya sih recommend abis. Tempatnya jg unik bgt lucu bisa buat foto2 hehe\n",
      "\n",
      "13) Nice place to chill with, try to come here at night its beautiful, perfect place to spend with family or lover. You can pick your own seafood, fresh when you enter this restaurant, with balinese gamelan at night and ocean sound, even you can sit right in the beach and feel ocean wave under your feet. Perfect getaway\n",
      "\n",
      "14) The first outlet in SCBD is one of my favorite place to go in Jakarta. Asides from the very tasty, healthy options that they're offering, ambience is very cosy, also great service that gives you great vibe! Price is super affordable, i can safely say that you get what u paid for, and that's a 5! So I can't wait for the Plaza senayan one to open and wander around the mall with smoothie bowls in my hand. :))\n",
      "\n",
      "15) Another fave place at PS. Been here often, tho i never tried the main course, because i mainly came for dessert, coffee and snacks, i must say garcon is offering lots of nice dessert and coffee. Their macaron taste nice, profiteroles taste good. And yes,  i once had escargot which also taste good. The only lack about garcon is their humid smoking area.\n",
      "\n",
      "16) :)\n",
      "\n",
      "17) Always chose CoffeeSmith as a place to study with my friends (yes bcs i dont have to deal with the traffic bcs it is located +- 500 m from my house). Tempat nya enakk banget nyaman banget dan orang2 disini ramah banget bikin mau kesini teruus, apalagi kalau ada Aga HAHAHAHA\n",
      "\n",
      "18) First time went here. So shocked to see tempatnya kecil banget cuma ada like 10 seats. Yang bagus cuma buat foto2 itupun rame harus nunggu. Pesen almond chocolate 50k, coconut breeze 50k, mango sunshine 50k. Rasanya okay2 aja nothing special sih. Aku paling suka coconut breeze, but my friends like the almond chocolate one.\n",
      "\n",
      "19) Tempat nya mungil, pas masuk langsung ketemu sama meja kasir dan pesan langsung juga di situ, untuk rasa kopi nya aku suka banget ya, buat harga standar, dan pelayanan nya ramah banget dan enak untuk diajak ngobrol soal kopi. Saran sih, diluasin lagi tempatnya untuk smoking area, is to small and hot :(\n",
      "\n",
      "20) I don't like dessert, tapi menurut temen2 ane, dessertnya enak. Dan service disini sopan banget. Untuk harga mungkin agak mahal ya, pesen 2 dessert, 1mango juice sama 1 passion tea, totalnya 150 rb an sudah di diskon 30%.\n",
      "\n",
      "21) Been here last Friday night with my office mates, and it was great. My good notes are:  1. Pilihan menunya banyak banget, mostly enak, and I tried them all! hahaha  2. Bebek peking, sate, & dessertnya juara  3. Tempatnya gede banget, lavish, apalagi yang ada di sayap kiri keren banget buat foto2  4. Serving staffnya ramah & fast response  Yang agak ngga sreg mungkin cuma western foodnya, somehow berasa biasa aja.    In overall this place is pricey, we spent +/- 550k each, but it's all about 5 star foods, ambience, & service. Worth lah sama harganya :)    PS: thanks Jinni for the treat, in case you read this! haha\n",
      "\n",
      "22) This place is nice. Well organized. The waiters are kind to us. They food also tastes good. Recomended for those who loves Japanese Cuisine because it's authentic . The spider roll is nice. It's crunchy. The salmon teriyaki is also good. The ambience of the restaurant is relaxing. A good place to get a short break during a stressfull day\n",
      "\n",
      "23) Enak. Murah. Nagih.   Sate jepang lebih karena bumbunya mungkin ya kaya kushiyaki.. terus harus pesen onigiri tuna, gak suka tuna ada onigiri original nya kok. lebih prefer makan dimobil sih, mas nya mau nganter. soalnya kursinya juga dikit terus gelap. kalo kesini harus jam 7 biar cepet dapet dan gak keabisan onigirinya soalnya udh jam 8an rame banget dan ngantrinya lama kadang malah suka udah abis, apalagi kalo weekend. this is my best pocket friendly place.\n",
      "\n",
      "24) Satu roti yang pasti gw beli disini, roti mochi yang ada choco chip nya! Pas awal bokap beli, keliatannya koq biasa aja, tp pas dimakan rasanya unik banget. Crispy diluar dalemnya kenyel2 kaya mochi trus ada choco chipnya semua nyatu banget! Udah deh cukup satu roti aja yang gw recommend ! Kalo ga percaya, perhatiin aja tu roti yang plg sering habis! Gresss !!!! 😋👌🏼\n",
      "\n",
      "25) Tempatnya sebenarnya besar, tapi penataannya nggak terlalu rapi dan \"\"fit-in\"\", apalagi di lantai 2 nya. Ditambah pelayananannya lama, harus diingetin dulu baru dibikin. Selang 1 jam baru makanan diantar, padahal hanya mie kuah. Suasananya juga berisik, ya memang cocok untuk bermain saja. Paling berisik itu kalo main jenga, perpaduan bunyi batang dan meja kayu nya sangat wow. Overall kalo emang tujuannya mau main dan hangout silahkan kesini, tapi kalau suka dengan suasana tenang, I don't recommend you to eat here.\n",
      "\n",
      "26) Akhirnya makan ke sini karena bingung mau makan siang dimana yang deket dari kantor di daerah CBD Bintaro. Ceritanya bosen makan di gedung kantor sendiri terus. Saat berkunjung Saya dan teman duduk di lantai 1 nya yang non smoking area. Untuk tempat cukup nyaman walau kami merasa tinggi meja dan kursi kurang nyaman untuk makan dikarenakan meja yang pendek, akan tetapi ada juga meja yang tingginya kok. Terus saya dan teman sama-sama memesan teh tarik dingin, menurut kami teh tarik ini kurang berasa ya. Kemudian kami mencoba menu soto dan nasi bali nya, dua-dua nya cukup enak untuk pertama kali berkunjung dan harganya sangat terjangkau.\n",
      "\n",
      "27) A small but cozy culinary hideout in South Jakarta. Very tasty Indonesian cuisine. The Nasi Cakalang, Nasi Limo, and Nasi Ayam Pecel are the must-try dishes...    Too bad for the slooooow service. Come prepare, maybe call ahead for the menu items you want, or face a lengthy wait while the food to be served.    I should have docked another half a point for letting smokers smoke inside while there is a smoking section at the back...\n",
      "\n",
      "28) Datang ke sini cuma demi makan dimsum karena sudah keburu makan di tempat lain. Entah kenapa hari ini rasa dimsumnya agak kurang oke. Atau mungkin karena sebenarnya perut saya sudah kenyang?    Secara keseluruhan sih masih boleh lah dimsum di sini dijadikan sasaran untuk brunch atau ngemil iseng. Tapi sepertinya ada saingan yang lebih berat,saya suka masakan disini, restoran ini benar-benar luar biasa.. sejak zaman tempo dulu sampai sekarang restoran ini tetap terus berjaya, dengan ciri khas makanan yang lezat dan kualitasnya bagus.. memang harga makanan disini mahal-mahal tetapi pas masakan nya pas dengan harga nya.. saya suka<3\n",
      "\n",
      "29) Shaokaonya enak, bumbunya pas dan dibakarnya juga pas ga terlalu kering.. Harga ga terlalu mahal, plus sering ad diskon.. very recommended..\n",
      "\n",
      "30) Martabak Pecenongan 65A never disappoints me. Adonan tebal maupun yg tipis enak\"\"! Topingnya dikasih melimpah. Harganya juga pas! Pokoknya the best martabak maker deh. Tempatnya bersih. Penyajiannya oke aka higenis. Mas mas nya juga ramah. Plus mereka menampung kritik dan saran di instanya (@martabak65a) atau di contact personnya sendiri.     What you should try:   -martabak greentea tipis ovomaltine keju  -martabak tebal red velvet oreo cream cheese (hrs digabung!)  -martabak greentea tebal keju greentea kitkat\n",
      "\n",
      "31) Good taste overall, not very generous portion, VERY LONG service time. IDK if something happened to their kitchen or did someone miss a shift on my visit but whatever it is, sure made my experience here a bad one.    Hope the ample room for operational improvement is quicky fulfilled.\n",
      "\n",
      "32) Ke sini karena penasaran bisa dapat rating 4 di Zomato.    Pesan dim sum: hakau, siomay, kaki ayam, dumpling udang mayo, lumpia udang kulit tahu, plus baked pasta bolognaise.    Rasa dim sum biasa aja. Siomay below par, hakau not bad. Goreng-goreng enak, lumpia udang kulit tahu suprisingly enak...    Makan berdua 170++\n",
      "\n",
      "33) Great place! Tempatnya nyaman banget, spacious. Makanannya juga enak, gue pesen cumi dan bebek dengan nasi hainam super yummy! Too bad gue ga sempet nyobain dimsum nya karenalast order untuk dimsum di jam 8, i will have dimsum some other time for sure\n",
      "\n",
      "34) Enak nih,  Chinese food nya,  harga nya juga gak mahal.  Lumayan buat rekomendasi  Gak nyesel dah #warung99  Kapan kapan saya mampir lagi bos..,mantap nasi goreng seafood nya👍  saya dah nyoba, bikin ane pengen balik lagi, penasaran ma tuh rrsep nya ,   kaya ada harum kare nya gitu deh..\n",
      "\n",
      "35) Salah satu kios makanan di Blok S yang sering di pesan! Nasi gorengnya enak dan gurih, seringnya pesen nasi goreng yang bakso sosis. Letaknya sederetan dengan Bakso Blok S yang engga kalah nikmatnya juga!\n",
      "\n",
      "36) Tempatnya enak, nyaman kursinya, walaupun agak kecil sih tp dekorasinya bagus, pelayanannya cepet bgt. Aku pesen steamboat spesial kuah tom yum rasanya enak seger sih kenyang bgt buat makan ber 3 tanpa nasi. Recommended deh\n",
      "\n",
      "37) Selalu order Crispy Dori karena selalu dimasak kalau kita pesan, beda dengan Crispy Chicken nya yg terkadang tidak langsung digoreng begitu kita pesan. Sabar menunggu lama krn dori nya enak sekali. Paling suka pesan dengan Wedges potato! Ah i'm in love with this kind of potato ♡ tempatnya juga cozy dan gak berisik karena posisinya di pojokan.\n",
      "\n",
      "38) Semalam baru ke sini karena liat\"\" di IG dessert nya lucu, caty\"\" gt. Dan w sendiri suka bgt sm kucing.. akhirnya aq ajak baebae k sini.. hipyy  aq pesen pussylicious sm vanila milk, lumayan lg ada disc 50% juga hihihihi :D     #You are still cute my pussy kitty-cat pussylicious, MEAW! Let's dessert smile emoticon smile emoticon\n",
      "\n",
      "39) Harganya mahal. Porsinya sedikit. Rasanya biasa aja. Overall Tidak worth it. Cukup sekali aja ke sini. Semoga kedepannya banyak perubahan...\n",
      "\n",
      "40) The crab was so big no wonder the price was expensive (390 rb). You can choose how will they cook it : butter cooked, sweet and sour, curry, or just boiled it.\n",
      "\n",
      "41) Love the ambience of this place. Apalagi yg outdoor, sejuk. Suka sama kopinya, terutama red velvet ice latte-nya enak! Will be back again for more.\n",
      "\n",
      "42) First time here !   I went here today with my friends to study together because we're on mid-term   This place isn't big but very cozy for me with nice music. If you want to order, you can directly go to the cashier   So i ordered bbq beef burger (beef, lettuce, onion, bacon, bbq sauce) 35k, my other friends ordered brown mushroom beef burger 30k and chicken hash 35k.   I love to eat bbq beef burger, very delicious ! I recommend u to order it when you're here and also mushroom burger too if you love mushroom sauce (i'm not really love it cause i don't like mushroom sauce), and for chicken hash, my friend said that too much fries not that chicken\n",
      "\n",
      "43) I wouldn't recommend their breakfast menu, as most of them are overpriced for the portion and quality of the food (the egg benedict came in very small portion, costs a whopping 60k and tasted average, while their 45k, tiny bowl of granola failed to satisfy). But apart from these weaknesses, the all day dining menu are pretty decent.\n",
      "\n",
      "44) Tempatnya luas sekali. Cocok untuk family gathering atau makan rame2 bareng temen kantor. Makanannya lumayan enak. Menunya banyak. Dr menu yg kami pesan, aku paling suka buncis goreng sm cumi goreng tepungnya. Sayang sambelnya kurang pedes hehe\n",
      "\n",
      "45) Bakso Akiaw adalah bakso yg cukup terkenal di daerah mabes (mangga besar). Tempat ini tidak pernah sepi pengunjung, selalu ramai apalagi saat weekend. Tapi walaupun selalu waiting list tp tidak butuh waktu lama sdh dapat tempat duduk.    Saya memesan kwetiaw bakso campur (babat dan daging). Penyajiannya cukup unik karena beda dgn bakso pd umumnya, kwetiaw dan bakso disajikan di piring berbeda, porsinya cukup besar. Untuk sambalnya memakai sambel hijau yg agak encer dan lumayan pedes. Overall rasanya enak, next time i'll come back.\n",
      "\n",
      "46) Pertama kali diajak kesini sih bingung kok tempatnya kecil dan gak keliatan dari jalan raya. Tp begitu kita masuk langsung order ice coffee vietnam dan nuttela latte sambil nunggu temen yang lain. Nuttela latte nya enak lumayan kental dengan porsi mini, coffee vietnamnya so so lah.. setelah semua ngumpul baru pesen singkong keju meski kejunya dikit tapi oke lah tertutupi sama tekstur singkongnya yang lembut. Potato wegess nya enak, recomended la..\n",
      "\n",
      "47) Warung ngedot, Gue pesen susu rasa greentea tapi rasa green tea nya kurang terasa but The Milk its so fresh. Tempat nya kecil ada indoor & outdoor tapi lumayan buat kumpul2 sama temen2. Terus gue pesen gue kue cubit tuna tapi kurang greget jujur hehe. Untuk harga standar buat kantong mahasiswi. Pelayanan nya ramah.\n",
      "\n",
      "48) Pilihan tepat klo mau makan steak enak tapi harga pas di kantong.. Yep.. Joni steak.     Setau gw sh ada 2 cabangnya di jkt. Satu di pasar baru, satu lg di gajah mada. Pertama x makan disini diajak temen. Mantab luar biasa dah.. Pelayanan cepat, rasa maknyus.. Harga pas dikantong.. Apalagi untuk ukuran steak tenderloin sebanyak itu..     Yah mungkin masih banyak steak2 laennya yg lebih enak, tp klo mau milih yg enak dan value for money, harus dicoba ini joni steak.     Favorite menu makan disini adalah salmon steaknya. Rasanya ga ada amis2nya gt. Fresh sih. Ditambah sambal bangkok dan selada yg sangat amat yummy 😁    Jaman pertama x makan disini disajikannya pake piring hotplate. Klo sekarang2 disajiin di piring biasa.. Yaahh tp tetep okelah ya 😁\n",
      "\n",
      "49) Pulang kantor ke daerah menteng/cikini trus bingung mau makan dimana. Liat Zomato katanya disini salah satu yang recommended. So here I was.    Tempatnya lumayan lucu ada indoor dan outdoor (smoking area).     They have all-day breakfast menu plus many selection of pastries (quiche, dll).    Pesen aglio olio with shrimp dan mushroom truffle pizza. WOW surprisingly enak enak lho!! Pizzanya apalagi! Truffle-nya pas nggak over powering, crustnya enak tipis tp ga begitu tipis.    Spaghettinya enaaakk al dente dan seasoning garlic and pepper-nya pas (cuma porsi tidak begitu besar).     Harga termasuk okelah untuk di lokasi daerah cikini/menteng. Oia saat ini mereka punya promo disc. 20% food only with BC* credit card (min. Transaction 275rb).\n",
      "\n",
      "50) Waktu itu ke Kiyadon, sama saudara (ditraktir pula :p) at first pelayanannya bagus cepet dan friendly. Untuk makanannha kita pesen salmon sashimi (as always, our fav) salmon salad potato salad, dan jumbo dragon roll. Honestly, ini uenak banget, kita sampe pesen 2x dan jadinya makan cuma itu doang. Overall, nice place\n",
      "\n"
     ]
    }
   ],
   "source": [
    "def display_reviews(reviews_corpus):\n",
    "    for id, review in enumerate(reviews_corpus):\n",
    "        print(\"{}) {}\\n\".format(id+1, review))\n",
    "        \n",
    "display_reviews(reviews_corpus)"
   ]
  },
  {
   "cell_type": "markdown",
   "metadata": {},
   "source": [
    "#### Splitting english and indonesian training data"
   ]
  },
  {
   "cell_type": "code",
   "execution_count": 8,
   "metadata": {
    "scrolled": true
   },
   "outputs": [
    {
     "name": "stdout",
     "output_type": "stream",
     "text": [
      "Total training data:  50\n",
      "English reviews:  22\n",
      "Indonesian reviews: 28\n"
     ]
    }
   ],
   "source": [
    "english_vocab = set(w.lower() for w in nltk.corpus.words.words())\n",
    "\n",
    "en_reviews_corpus = []\n",
    "id_reviews_corpus = []\n",
    "for review in reviews_corpus:\n",
    "    tokens = word_tokenize(review)\n",
    "    added_vocab = ['tau', 'gue', 'saya', 'baru', 'gila', 'ga', 'paling', 'yang'] # manually add indo vocabularies\n",
    "    \n",
    "    if(tokens[0].lower() in english_vocab and (tokens[0].lower() not in added_vocab)):\n",
    "        # print(tokens[0].lower())\n",
    "        en_reviews_corpus.append(\" \".join(tokens))\n",
    "    else:\n",
    "        id_reviews_corpus.append(\" \".join(tokens))\n",
    "        \n",
    "print(\"Total training data: \", len(reviews_corpus))\n",
    "print(\"English reviews: \", len(en_reviews_corpus))\n",
    "print(\"Indonesian reviews:\", len(id_reviews_corpus))"
   ]
  },
  {
   "cell_type": "code",
   "execution_count": 9,
   "metadata": {
    "collapsed": true
   },
   "outputs": [],
   "source": [
    "en_processed_reviews = []\n",
    "id_processed_reviews = []"
   ]
  },
  {
   "cell_type": "markdown",
   "metadata": {},
   "source": [
    "## Text Preprocessing"
   ]
  },
  {
   "cell_type": "markdown",
   "metadata": {},
   "source": [
    "Since, text is the most unstructured form of all the available data, various types of noise are present in it and the data is not readily analyzable without any pre-processing. The entire process of cleaning and standardization of text, making it noise-free and ready for analysis is known as text preprocessing.\n",
    "\n",
    "It is predominantly comprised of three steps:\n",
    "\n",
    "1. Noise Removal\n",
    "2. Lexicon Normalization\n",
    "3. Object Standardization"
   ]
  },
  {
   "cell_type": "markdown",
   "metadata": {},
   "source": [
    "#### 1. Noise removal"
   ]
  },
  {
   "cell_type": "markdown",
   "metadata": {},
   "source": [
    "Any piece of text which is not relevant to the context of the data and the end-output can be specified as the noise. For example – language stopwords (commonly used words of a language – is, am, the, of, in etc), URLs or links, social media entities (mentions, hashtags), punctuations and industry specific words. This step deals with removal of all types of noisy entities present in the text."
   ]
  },
  {
   "cell_type": "code",
   "execution_count": 10,
   "metadata": {
    "collapsed": true
   },
   "outputs": [],
   "source": [
    "# en stopwords\n",
    "en_stopwords = stopwords.words('english')\n",
    "\n",
    "# id stopwords\n",
    "factory = StopWordRemoverFactory()\n",
    "id_stopwords_remover = factory.create_stop_word_remover()"
   ]
  },
  {
   "cell_type": "markdown",
   "metadata": {},
   "source": [
    "##### English"
   ]
  },
  {
   "cell_type": "code",
   "execution_count": 11,
   "metadata": {
    "collapsed": true,
    "scrolled": false
   },
   "outputs": [],
   "source": [
    "for id, review in enumerate(en_reviews_corpus):\n",
    "    tokens = word_tokenize(review)\n",
    "    \n",
    "    review_list = [i.lower() for i in tokens if i not in en_stopwords and len(i) > 2 and i in english_vocab]\n",
    "    review_arr = \" \".join(review_list)\n",
    "    en_processed_reviews.append(review)"
   ]
  },
  {
   "cell_type": "markdown",
   "metadata": {},
   "source": [
    "##### Indo"
   ]
  },
  {
   "cell_type": "code",
   "execution_count": 12,
   "metadata": {
    "collapsed": true,
    "scrolled": false
   },
   "outputs": [],
   "source": [
    "for id, review in enumerate(id_reviews_corpus):\n",
    "    id_processed_reviews.append(id_stopwords_remover.remove(review))"
   ]
  },
  {
   "cell_type": "markdown",
   "metadata": {},
   "source": [
    "#### 2. Lexicon Normalization"
   ]
  },
  {
   "cell_type": "markdown",
   "metadata": {},
   "source": [
    "Another type of textual noise is about the multiple representations exhibited by single word. For example – “play”, “player”, “played”, “plays” and “playing” are the different variations of the word – “play”, Though they mean different but contextually all are similar. The step converts all the disparities of a word into their normalized form (also known as lemma). Normalization is a pivotal step for feature engineering with text as it converts the high dimensional features (N different features) to the low dimensional space (1 feature), which is an ideal ask for any ML model."
   ]
  },
  {
   "cell_type": "markdown",
   "metadata": {},
   "source": [
    "The most common lexicon normalization practices are :\n",
    "\n",
    "1. Stemming:  Stemming is a rudimentary rule-based process of stripping the suffixes (“ing”, “ly”, “es”, “s” etc) from a word.\n",
    "2. Lemmatization: Lemmatization, on the other hand, is an organized & step by step procedure of obtaining the root form of the word, it makes use of vocabulary (dictionary importance of words) and morphological analysis (word structure and grammar relations)."
   ]
  },
  {
   "cell_type": "markdown",
   "metadata": {},
   "source": [
    "#### English"
   ]
  },
  {
   "cell_type": "code",
   "execution_count": 13,
   "metadata": {
    "collapsed": true
   },
   "outputs": [],
   "source": [
    "joint_review = []\n",
    "lem = WordNetLemmatizer()\n",
    "stem = LancasterStemmer()\n",
    "\n",
    "for id, review in enumerate(en_processed_reviews):\n",
    "    tokens = word_tokenize(review)\n",
    "    \n",
    "    joint_token = []\n",
    "    for token in tokens:\n",
    "        token = lem.lemmatize(token, \"v\")\n",
    "        # token = stem.stem(token)\n",
    "        joint_token.append(token)\n",
    "        joint_token_str = \" \".join(joint_token)\n",
    "        \n",
    "    joint_review.append(joint_token_str)\n",
    "\n",
    "en_processed_reviews = joint_review"
   ]
  },
  {
   "cell_type": "markdown",
   "metadata": {},
   "source": [
    "#### Indo"
   ]
  },
  {
   "cell_type": "code",
   "execution_count": 14,
   "metadata": {
    "scrolled": true
   },
   "outputs": [
    {
     "name": "stdout",
     "output_type": "stream",
     "text": [
      "Input: Sengaja macet2an kesini cuman buat nyobain nasi goreng cakalang orang2 bilang enak . Dan emang beneran enak sih nasi gorengnya wkkw suasana nya enak buat makan ramai2 gitu .\n",
      "\n",
      "Output: sengaja macet2an kesini cuman buat nyobain nasi goreng cakalang orang2 bilang enak dan emang beneran enak sih nasi goreng wkkw suasana nya enak buat makan ramai2 gitu\n",
      "\n",
      "Input: Suka sama bebek karna dulu d ajak tmn makan sini , ehh malah jd ketagihan sama dagingnya yg empuk sambel mentah nya yg dasyatttt Dulu tempatnya tenda , sekarang udh kiosnya , kursinya lumayan banyak toilet nya juga.. Kalo makan bebek selalu order bebek , nasi uduk , sate rempela , sambel mentah ekstra pedas es teh manis , sambel mentah nya request pedasnya..\n",
      "\n",
      "Output: suka sama bebek karna dulu d ajak tmn makan sini ehh malah jd tagih sama daging yg empuk sambel mentah nya yg dasyatttt dulu tempat tenda sekarang udh kios kursi lumayan banyak toilet nya juga kalo makan bebek selalu order bebek nasi uduk sate rempela sambel mentah ekstra pedas es teh manis sambel mentah nya request pedas\n",
      "\n",
      "Input: Tempat dessert kelapa fresh banget ! Kalo kesini paling suka beli coco pouchnya ngobrol '' '' sama temen '' '' .. Harga nya bersahabat banget , lumayan banyak isi coco pouch nya.. Paling suka coco pouch rasa honeydew asanya seger bangettt~ bener '' '' energy potion !\n",
      "\n",
      "Output: tempat dessert kelapa fresh banget kalo kesini paling suka beli coco pouchnya ngobrol sama temen harga nya sahabat banget lumayan banyak isi coco pouch nya paling suka coco pouch rasa honeydew asa seger bangettt bener energy potion\n",
      "\n",
      "Input: Tryin menya sakura ramen for the first time with bunch of my friends . First we 're bit doubting but the sign in front of resto quite big sayin that `` '' Japan no 1 Ramen '' '' , so we decided to give it a try . Most of us tryin the tonkotsu ramen the spicy one . The broth was quite thick than other ramen resto but the meat was so moist and tender so it well combination . Surely come again 👌👌👌\n",
      "\n",
      "Output: tryin menya sakura ramen for the first time with bunch of my friends first we re bit doubting but the sign in front of resto quite big sayin that japan no 1 ramen so we decided to give it a try most of us tryin the tonkotsu ramen the spicy one the broth was quite thick than other ramen resto but the meat was so moist and tender so it well combination surely come again\n",
      "\n",
      "Input: Tadi gue first time lewat Beji pas lewat dpn cafe , gue lgsng trtarik buat dtg Karna baru bgt buka . Gue mesen beberapa makanan roti choco crunch , sossis and potato pke sauce bbq apa tau namanya lupa , sm pizza mie pake topping smoked beef . Gilak gue rasa utk servis msh hrs byk belajar deh , gak kyk td pelayannya gak peka . Masih kaku gt . Terus masa gue dah hampir 30menit lama gak satupun mknan yg dtg . Trs cwok gue manggil waittersnya nanya mknannya dah jd apa , mas2 nya blg `` '' maaf mas td bingung cari yg mesen '' '' buset deh trnyata bener meja sblah gue kyknya dah mulai bosen . Pelayannya terlihat pd kebingungan . So klo mnrt gue dri segi makanan sih lumayan , service prosedur pelayanannya sih yg mesti jd concern , kliatan bgt blm ready . Pdhal tempatnya dah keren , luas bgt . Interiornya keren . Smga terus maju .\n",
      "\n",
      "Output: tadi gue first time lewat beji pas lewat dpn cafe gue lgsng trtarik buat dtg karna baru bgt buka gue mesen beberapa makan roti choco crunch sossis and potato pke sauce bbq apa tau nama lupa sm pizza mie pake topping smoked beef gilak gue rasa utk servis msh hrs byk ajar deh gak kyk td layan gak peka masih kaku gt terus masa gue dah hampir 30menit lama gak satu mknan yg dtg trs cwok gue manggil waittersnya nanya mknannya dah jd apa mas2 nya blg maaf mas td bingung cari yg mesen buset deh trnyata bener meja sblah gue kyknya dah mulai bosen layan lihat pd bingung so klo mnrt gue dri segi makan sih lumayan service prosedur layan sih yg mesti jd concern kliatan bgt blm ready pdhal tempat dah keren luas bgt interior keren smga terus maju\n",
      "\n",
      "Input: : )\n",
      "\n",
      "Output: \n",
      "\n",
      "Input: Tempat nya mungil , pas masuk langsung ketemu sama meja kasir pesan langsung di situ , rasa kopi nya aku suka banget , buat harga standar , pelayanan nya ramah banget enak diajak ngobrol soal kopi . Saran sih , diluasin tempatnya smoking area , is to small and hot : (\n",
      "\n",
      "Output: tempat nya mungil pas masuk langsung ketemu sama meja kasir pesan langsung di situ rasa kopi nya aku suka banget buat harga standar layan nya ramah banget enak ajak ngobrol soal kopi saran sih diluasin tempat smoking area is to small and hot\n",
      "\n",
      "Input: Enak . Murah . Nagih . Sate jepang lebih bumbunya mungkin kaya kushiyaki.. terus pesen onigiri tuna , gak suka tuna onigiri original nya kok . lebih prefer makan dimobil sih , mas nya mau nganter . soalnya kursinya dikit terus gelap . kalo kesini jam 7 biar cepet dapet gak keabisan onigirinya soalnya udh jam 8an rame banget ngantrinya lama kadang malah suka udah abis , kalo weekend . this is my best pocket friendly place .\n",
      "\n",
      "Output: enak murah nagih sate jepang lebih bumbu mungkin kaya kushiyaki terus sen onigiri tuna gak suka tuna onigiri original nya kok lebih prefer makan mobil sih mas nya mau nganter soal kursi dikit terus gelap kalo kesini jam 7 biar cepet dapet gak abis onigirinya soal udh jam 8an rame banget ngantrinya lama kadang malah suka udah abis kalo weekend this is my best pocket friendly place\n",
      "\n",
      "Input: Satu roti pasti gw beli disini , roti mochi choco chip nya ! Pas awal bokap beli , keliatannya koq biasa aja , tp pas dimakan rasanya unik banget . Crispy diluar dalemnya kenyel2 kaya mochi trus ada choco chipnya semua nyatu banget ! Udah deh cukup satu roti aja gw recommend ! Kalo ga percaya , perhatiin aja tu roti plg sering habis ! Gresss ! ! ! ! 😋👌🏼\n",
      "\n",
      "Output: satu roti pasti gw beli sini roti mochi choco chip nya pas awal bokap beli liat koq biasa aja tp pas makan rasa unik banget crispy luar dalem kenyel2 kaya mochi trus ada choco chipnya semua nyatu banget udah deh cukup satu roti aja gw recommend kalo ga percaya perhatiin aja tu roti plg sering habis gresss\n",
      "\n",
      "Input: Tempatnya sebenarnya besar , penataannya terlalu rapi `` '' fit-in '' '' , di lantai 2 nya . Ditambah pelayananannya lama , diingetin dulu baru dibikin . Selang 1 jam baru makanan diantar , padahal mie kuah . Suasananya berisik , memang cocok bermain . Paling berisik kalo main jenga , perpaduan bunyi batang meja kayu nya sangat wow . Overall kalo emang tujuannya mau main hangout silahkan kesini , kalau suka suasana tenang , I do n't recommend you to eat here .\n",
      "\n",
      "Output: tempat benar besar tata terlalu rapi fit-in di lantai 2 nya tambah pelayananannya lama diingetin dulu baru bikin selang 1 jam baru makan antar padahal mie kuah suasana berisik memang cocok main paling berisik kalo main jenga padu bunyi batang meja kayu nya sangat wow overall kalo emang tuju mau main hangout silah kesini kalau suka suasana tenang i do n t recommend you to eat here\n",
      "\n",
      "Input: Akhirnya makan sini bingung mau makan siang deket kantor daerah CBD Bintaro . Ceritanya bosen makan gedung kantor sendiri terus . Saat berkunjung Saya teman duduk lantai 1 nya non smoking area . Untuk tempat cukup nyaman merasa tinggi meja kursi kurang nyaman makan dikarenakan meja pendek , tetapi juga meja yang tingginya kok . Terus teman sama-sama memesan teh tarik dingin , kami teh tarik kurang berasa . Kemudian kami mencoba menu soto nasi bali nya , dua-dua nya cukup enak pertama kali berkunjung dan harganya sangat terjangkau .\n",
      "\n",
      "Output: akhir makan sini bingung mau makan siang deket kantor daerah cbd bintaro cerita bosen makan gedung kantor sendiri terus saat kunjung saya teman duduk lantai 1 nya non smoking area untuk tempat cukup nyaman rasa tinggi meja kursi kurang nyaman makan karena meja pendek tetapi juga meja yang tinggi kok terus teman sama mes teh tarik dingin kami teh tarik kurang asa kemudian kami coba menu soto nasi bal nya dua nya cukup enak pertama kali kunjung dan harga sangat jangkau\n",
      "\n",
      "Input: Datang sini cuma makan dimsum sudah keburu makan tempat . Entah hari rasa dimsumnya kurang oke . Atau mungkin sebenarnya perut sudah kenyang ? Secara keseluruhan sih boleh lah dimsum sini dijadikan sasaran brunch ngemil iseng . Tapi sepertinya saingan lebih berat , suka masakan disini , restoran benar-benar luar biasa.. sejak zaman tempo dulu sekarang restoran tetap terus berjaya , ciri khas makanan lezat kualitasnya bagus.. memang harga makanan disini mahal-mahal pas masakan nya pas harga nya.. suka < 3\n",
      "\n"
     ]
    },
    {
     "name": "stdout",
     "output_type": "stream",
     "text": [
      "Output: datang sini cuma makan dimsum sudah keburu makan tempat entah hari rasa dimsumnya kurang oke atau mungkin benar perut sudah kenyang cara seluruh sih boleh lah dimsum sini jadi sasar brunch ngemil iseng tapi seperti saing lebih berat suka masakan sini restoran benar luar biasa sejak zaman tempo dulu sekarang restoran tetap terus jaya ciri khas makan lezat kualitas bagus memang harga makan sini mahal pas masakan nya pas harga nya suka 3\n",
      "\n",
      "Input: Shaokaonya enak , bumbunya pas dibakarnya pas ga terlalu kering.. Harga ga terlalu mahal , plus sering ad diskon.. very recommended..\n",
      "\n",
      "Output: shaokaonya enak bumbu pas bakar pas ga terlalu kering harga ga terlalu mahal plus sering ad diskon very recommended\n",
      "\n",
      "Input: Martabak Pecenongan 65A never disappoints me . Adonan tebal maupun yg tipis enak '' '' ! Topingnya dikasih melimpah . Harganya pas ! Pokoknya the best martabak maker deh . Tempatnya bersih . Penyajiannya oke aka higenis . Mas mas nya ramah . Plus menampung kritik saran instanya ( @ martabak65a ) di contact personnya sendiri . What you should try : -martabak greentea tipis ovomaltine keju -martabak tebal red velvet oreo cream cheese ( hrs digabung ! ) -martabak greentea tebal keju greentea kitkat\n",
      "\n",
      "Output: martabak pecenongan 65a never disappoints me adon tebal maupun yg tipis enak topingnya kasih limpah harga pas pokok the best martabak maker deh tempat bersih saji oke aka higenis mas mas nya ramah plus tampung kritik saran instanya martabak65a di contact person sendiri what you should try -martabak greentea tipis ovomaltine keju -martabak tebal red velvet oreo cream cheese hrs gabung -martabak greentea tebal keju greentea kitkat\n",
      "\n",
      "Input: Ke sini penasaran dapat rating 4 Zomato . Pesan dim sum : hakau , siomay , kaki ayam , dumpling udang mayo , lumpia udang kulit tahu , plus baked pasta bolognaise . Rasa dim sum biasa aja . Siomay below par , hakau not bad . Goreng-goreng enak , lumpia udang kulit tahu suprisingly enak ... Makan berdua 170++\n",
      "\n",
      "Output: ke sini penasaran dapat rating 4 zomato pesan dim sum hakau siomay kaki ayam dumpling udang mayo lumpia udang kulit tahu plus baked pasta bolognaise rasa dim sum biasa aja siomay below par hakau not bad goreng enak lumpia udang kulit tahu suprisingly enak makan dua 170\n",
      "\n",
      "Input: Enak nih , Chinese food nya , harga nya gak mahal . Lumayan buat rekomendasi Gak nyesel dah # warung99 Kapan kapan mampir bos.. , mantap nasi goreng seafood nya👍 dah nyoba , bikin ane pengen balik , penasaran ma tuh rrsep nya , kaya harum kare nya gitu deh..\n",
      "\n",
      "Output: enak nih chinese food nya harga nya gak mahal lumayan buat rekomendasi gak nyesel dah warung99 kapan kapan mampir bos mantap nasi goreng seafood nya dah nyoba bikin ane ken balik penasaran ma tuh rrsep nya kaya harum kare nya gitu deh\n",
      "\n",
      "Input: Salah satu kios makanan Blok S sering pesan ! Nasi gorengnya enak gurih , seringnya pesen nasi goreng bakso sosis . Letaknya sederetan Bakso Blok S engga kalah nikmatnya !\n",
      "\n",
      "Output: salah satu kios makan blok s sering pesan nasi goreng enak gurih sering sen nasi goreng bakso sosis letak deret bakso blok s engga kalah nikmat\n",
      "\n",
      "Input: Tempatnya enak , nyaman kursinya , walaupun kecil sih tp dekorasinya bagus , pelayanannya cepet bgt . Aku pesen steamboat spesial kuah tom yum rasanya enak seger sih kenyang bgt buat makan ber 3 nasi . Recommended deh\n",
      "\n",
      "Output: tempat enak nyaman kursi walaupun kecil sih tp dekorasi bagus layan cepet bgt aku sen steamboat spesial kuah tom yum rasa enak seger sih kenyang bgt buat makan ber 3 nasi recommended deh\n",
      "\n",
      "Input: Selalu order Crispy Dori selalu dimasak kalau pesan , beda Crispy Chicken nya yg terkadang langsung digoreng kita pesan . Sabar menunggu lama krn dori nya enak sekali . Paling suka pesan Wedges potato ! Ah i 'm in love with this kind of potato ♡ tempatnya cozy gak berisik posisinya pojokan .\n",
      "\n",
      "Output: selalu order crispy dor selalu masak kalau pesan beda crispy chicken nya yg terkadang langsung goreng kita pesan sabar tunggu lama krn dor nya enak sekali paling suka pesan wedges potato ah i m in love with this kind of potato tempat cozy gak berisik posisi pojok\n",
      "\n",
      "Input: Semalam baru sini liat '' '' IG dessert nya lucu , caty '' '' gt . Dan w sendiri suka bgt sm kucing.. akhirnya aq ajak baebae k sini.. hipyy aq pesen pussylicious sm vanila milk , lumayan lg disc 50 % hihihihi : D # You are still cute my pussy kitty-cat pussylicious , MEAW ! Let 's dessert smile emoticon smile emoticon\n",
      "\n",
      "Output: malam baru sini liat ig dessert nya lucu caty gt dan w sendiri suka bgt sm kucing akhir aq ajak baebae k sini hipyy aq sen pussylicious sm vanila milk lumayan lg disc 50 hihihihi d you are still cute my pussy kitty-cat pussylicious meaw let s dessert smile emoticon smile emoticon\n",
      "\n",
      "Input: Harganya mahal . Porsinya sedikit . Rasanya biasa aja . Overall Tidak worth it . Cukup sekali aja sini . Semoga kedepannya banyak perubahan ...\n",
      "\n",
      "Output: harga mahal porsi sedikit rasa biasa aja overall tidak worth it cukup sekali aja sini moga depan banyak ubah\n",
      "\n",
      "Input: Tempatnya luas sekali . Cocok family gathering makan rame2 bareng temen kantor . Makanannya lumayan enak . Menunya banyak . Dr menu yg pesan , aku paling suka buncis goreng sm cumi goreng tepungnya . Sayang sambelnya kurang pedes hehe\n",
      "\n",
      "Output: tempat luas sekali cocok family gathering makan rame2 bareng temen kantor makan lumayan enak menu banyak dr menu yg pesan aku paling suka buncis goreng sm cumi goreng tepung sayang sambelnya kurang pedes hehe\n",
      "\n",
      "Input: Bakso Akiaw bakso yg cukup terkenal daerah mabes ( mangga besar ) . Tempat pernah sepi pengunjung , selalu ramai saat weekend . Tapi walaupun selalu waiting list tp tidak butuh waktu lama sdh tempat duduk . Saya memesan kwetiaw bakso campur ( babat daging ) . Penyajiannya cukup unik beda dgn bakso pd umumnya , kwetiaw bakso disajikan piring berbeda , porsinya cukup besar . Untuk sambalnya memakai sambel hijau yg encer lumayan pedes . Overall rasanya enak , next time i 'll come back .\n",
      "\n",
      "Output: bakso akiaw bakso yg cukup kenal daerah mabes mangga besar tempat pernah sepi unjung selalu ramai saat weekend tapi walaupun selalu waiting list tp tidak butuh waktu lama sdh tempat duduk saya mes kwetiaw bakso campur babat daging saji cukup unik beda dgn bakso pd umum kwetiaw bakso saji piring beda porsi cukup besar untuk sambal pakai sambel hijau yg encer lumayan pedes overall rasa enak next time i ll come back\n",
      "\n",
      "Input: Pertama kali diajak kesini sih bingung kok tempatnya kecil gak keliatan jalan raya . Tp kita masuk langsung order ice coffee vietnam nuttela latte nunggu temen lain . Nuttela latte nya enak lumayan kental porsi mini , coffee vietnamnya so so lah.. semua ngumpul baru pesen singkong keju meski kejunya dikit oke lah tertutupi sama tekstur singkongnya lembut . Potato wegess nya enak , recomended la..\n",
      "\n",
      "Output: pertama kali ajak kesini sih bingung kok tempat kecil gak liat jalan raya tp kita masuk langsung order ice coffee vietnam nuttela latte nunggu temen lain nuttela latte nya enak lumayan kental porsi mini coffee vietnamnya so so lah semua ngumpul baru sen singkong keju meski keju dikit oke lah tutup sama tekstur singkong lembut potato wegess nya enak recomended la\n",
      "\n",
      "Input: Warung ngedot , Gue pesen susu rasa greentea rasa green tea nya kurang terasa but The Milk its so fresh . Tempat nya kecil indoor & outdoor lumayan buat kumpul2 sama temen2 . Terus gue pesen gue kue cubit tuna kurang greget jujur hehe . Untuk harga standar buat kantong mahasiswi . Pelayanan nya ramah .\n",
      "\n",
      "Output: warung ngedot gue sen susu rasa greentea rasa green tea nya kurang asa but the milk its so fresh tempat nya kecil indoor outdoor lumayan buat kumpul2 sama temen2 terus gue sen gue kue cubit tuna kurang greget jujur hehe untuk harga standar buat kantong mahasiswi layan nya ramah\n",
      "\n",
      "Input: Pilihan tepat klo mau makan steak enak harga pas kantong.. Yep.. Joni steak . Setau gw sh 2 cabangnya jkt . Satu pasar baru , satu lg gajah mada . Pertama x makan disini diajak temen . Mantab luar biasa dah.. Pelayanan cepat , rasa maknyus.. Harga pas dikantong.. Apalagi ukuran steak tenderloin sebanyak itu.. Yah mungkin banyak steak2 laennya yg lebih enak , tp klo mau milih yg enak value for money , dicoba joni steak . Favorite menu makan disini salmon steaknya . Rasanya ga amis2nya gt . Fresh sih . Ditambah sambal bangkok selada yg sangat yummy 😁 Jaman pertama x makan disini disajikannya pake piring hotplate . Klo sekarang2 disajiin piring biasa.. Yaahh tp tetep okelah 😁\n",
      "\n"
     ]
    },
    {
     "name": "stdout",
     "output_type": "stream",
     "text": [
      "Output: pilih tepat klo mau makan steak enak harga pas kantong yep joni steak tau gw sh 2 cabang jkt satu pasar baru satu lg gajah mada pertama x makan sini ajak temen mantab luar biasa dah layan cepat rasa maknyus harga pas kantong apalagi ukur steak tenderloin banyak itu yah mungkin banyak steak2 laennya yg lebih enak tp klo mau milih yg enak value for money coba joni steak favorite menu makan sini salmon steaknya rasa ga amis2nya gt fresh sih tambah sambal bangkok selada yg sangat yummy jaman pertama x makan sini saji pake piring hotplate klo sekarang2 disajiin piring biasa yaahh tp tetep oke\n",
      "\n",
      "Input: Pulang kantor daerah menteng/cikini trus bingung mau makan . Liat Zomato katanya disini salah satu recommended . So here I was . Tempatnya lumayan lucu indoor outdoor ( smoking area ) . They have all-day breakfast menu plus many selection of pastries ( quiche , ) . Pesen aglio olio with shrimp mushroom truffle pizza . WOW surprisingly enak enak lho ! ! Pizzanya ! Truffle-nya pas over powering , crustnya enak tipis tp ga tipis . Spaghettinya enaaakk al dente seasoning garlic and pepper-nya pas ( cuma porsi begitu besar ) . Harga termasuk okelah di lokasi daerah cikini/menteng . Oia ini punya promo disc . 20 % food only with BC* credit card ( min . Transaction 275rb ) .\n",
      "\n",
      "Output: pulang kantor daerah menteng cikini trus bingung mau makan liat zomato kata sini salah satu recommended so here i was tempat lumayan lucu indoor outdoor smoking area they have all-day breakfast menu plus many selection of pastries quiche sen aglio olio with shrimp mushroom truffle pizza wow surprisingly enak enak lho pizzanya truffle-nya pas over powering crustnya enak tipis tp ga tipis spaghettinya enaaakk al dente seasoning garlic and pepper-nya pas cuma porsi begitu besar harga masuk oke di lokasi daerah cikini menteng oia ini punya promo disc 20 food only with bc credit card min transaction 275rb\n",
      "\n",
      "Input: Waktu ke Kiyadon , sama saudara ( ditraktir : p ) at first pelayanannya bagus cepet friendly . Untuk makanannha pesen salmon sashimi ( as always , our fav ) salmon salad potato salad , jumbo dragon roll . Honestly , uenak banget , sampe pesen 2x jadinya makan cuma doang . Overall , nice place\n",
      "\n",
      "Output: waktu ke kiyadon sama saudara traktir p at first layan bagus cepet friendly untuk makanannha sen salmon sashimi as always our fav salmon salad potato salad jumbo dragon roll honestly uenak banget sampe sen 2x jadi makan cuma doang overall nice place\n",
      "\n"
     ]
    }
   ],
   "source": [
    "joint_review = []\n",
    "factory = StemmerFactory()\n",
    "stemmer = factory.create_stemmer()\n",
    "\n",
    "for id, review in enumerate(id_processed_reviews):\n",
    "    print(\"Input: %s\\n\"%review)\n",
    "    joint_token_str = stemmer.stem(review)\n",
    "    print(\"Output: %s\\n\"%joint_token_str)\n",
    "\n",
    "    joint_review.append(joint_token_str)\n",
    "\n",
    "id_processed_reviews = joint_review"
   ]
  },
  {
   "cell_type": "markdown",
   "metadata": {},
   "source": [
    "#### 3. Object Standardization"
   ]
  },
  {
   "cell_type": "markdown",
   "metadata": {},
   "source": [
    "Text data often contains words or phrases which are not present in any standard lexical dictionaries. These pieces are not recognized by search engines and models.\n",
    "\n",
    "Some of the examples are – acronyms, hashtags with attached words, and colloquial slangs. With the help of regular expressions and manually prepared data dictionaries, this type of noise can be fixed, the code below uses a dictionary lookup method to replace social media slangs from a text."
   ]
  },
  {
   "cell_type": "markdown",
   "metadata": {},
   "source": [
    "1) Handling Appostrophes\n",
    "\n",
    "To avoid any word sense disambiguation in text, it is recommended to maintain proper structure in it and to abide by the rules of context free grammar. When apostrophes are used, chances of disambiguation increases.\n",
    "For example “it’s is a contraction for it is or it has”. All the apostrophes should be converted into standard lexicons."
   ]
  },
  {
   "cell_type": "markdown",
   "metadata": {},
   "source": [
    "##### English"
   ]
  },
  {
   "cell_type": "code",
   "execution_count": 15,
   "metadata": {
    "collapsed": true
   },
   "outputs": [],
   "source": [
    "appostrophes_dict = {\"'s\": \"is\", \"'re\": \"are\", \"'m\": \"am\", \"'ve\": \"ve\", \"'d\": \"would\", \"'ll\": \"will\", \"'t\": \"ot\"}"
   ]
  },
  {
   "cell_type": "code",
   "execution_count": 16,
   "metadata": {
    "collapsed": true
   },
   "outputs": [],
   "source": [
    "joint_review = []\n",
    "\n",
    "for id, review in enumerate(en_processed_reviews):\n",
    "    tokens = word_tokenize(review)\n",
    "    \n",
    "    joint_token = [appostrophes_dict[token] if token in appostrophes_dict else token for token in tokens]\n",
    "    joint_token_str = \" \".join(joint_token)\n",
    "    \n",
    "    joint_review.append(joint_token_str)\n",
    "    \n",
    "en_processed_reviews = joint_review"
   ]
  },
  {
   "cell_type": "markdown",
   "metadata": {},
   "source": [
    "##### Indo"
   ]
  },
  {
   "cell_type": "markdown",
   "metadata": {},
   "source": [
    "Nothing. There is no appostrophes behaviour in indonesian language"
   ]
  },
  {
   "cell_type": "markdown",
   "metadata": {},
   "source": [
    "2) Removal of Punctuations\n",
    "\n",
    "All the punctuation marks according to the priorities should be dealt with. For example: “.”, “,”,”?” are important punctuations that should be retained while others need to be removed."
   ]
  },
  {
   "cell_type": "markdown",
   "metadata": {},
   "source": [
    "##### English"
   ]
  },
  {
   "cell_type": "code",
   "execution_count": 17,
   "metadata": {
    "collapsed": true,
    "scrolled": true
   },
   "outputs": [],
   "source": [
    "joint_review = []\n",
    "punctuations_dict = '''!()-[]{};:'\"\\,<>./@#$%^&*_~''' # not includes !(),.?\n",
    "\n",
    "for id, review in enumerate(en_processed_reviews):\n",
    "\n",
    "    processed_review = \"\"\n",
    "    for token in review:\n",
    "        if token not in punctuations_dict:\n",
    "            processed_review = processed_review + token\n",
    "\n",
    "    joint_review.append(processed_review)\n",
    "\n",
    "en_processed_reviews = joint_review"
   ]
  },
  {
   "cell_type": "markdown",
   "metadata": {},
   "source": [
    "##### Indo"
   ]
  },
  {
   "cell_type": "code",
   "execution_count": 18,
   "metadata": {
    "collapsed": true
   },
   "outputs": [],
   "source": [
    "joint_review = []\n",
    "punctuations_dict = '''!()-[]{};:'\"\\,<>./@#$%^&*_~''' # not includes !(),.?\n",
    "\n",
    "for id, review in enumerate(id_processed_reviews):\n",
    "\n",
    "    processed_review = \"\"\n",
    "    for token in review:\n",
    "        if token not in punctuations_dict:\n",
    "            processed_review = processed_review + token\n",
    "\n",
    "    joint_review.append(processed_review)\n",
    "\n",
    "_processed_reviews = joint_review"
   ]
  },
  {
   "cell_type": "markdown",
   "metadata": {},
   "source": [
    "3) Removal of whitespace noise\n",
    "\n",
    "There is a need to remove unneeded whitespace in a sentences like \"because it is right  .\", \"Besides  , there is...\""
   ]
  },
  {
   "cell_type": "markdown",
   "metadata": {},
   "source": [
    "##### English"
   ]
  },
  {
   "cell_type": "code",
   "execution_count": 19,
   "metadata": {
    "collapsed": true
   },
   "outputs": [],
   "source": [
    "joint_review = []\n",
    "\n",
    "for id, review in enumerate(en_processed_reviews):\n",
    "    processed_review = review.lower()\n",
    "    processed_review = processed_review.replace(\" .\", \".\")\n",
    "    processed_review = processed_review.replace(\" ,\", \".\")\n",
    "    \n",
    "    joint_review.append(processed_review)\n",
    "\n",
    "en_processed_reviews = joint_review"
   ]
  },
  {
   "cell_type": "markdown",
   "metadata": {},
   "source": [
    "##### Indo"
   ]
  },
  {
   "cell_type": "code",
   "execution_count": 20,
   "metadata": {
    "collapsed": true
   },
   "outputs": [],
   "source": [
    "joint_review = []\n",
    "\n",
    "for id, review in enumerate(id_processed_reviews):\n",
    "    processed_review = review.replace(\" .\", \".\")\n",
    "    processed_review = processed_review.replace(\" ,\", \".\")\n",
    "    \n",
    "    joint_review.append(processed_review)\n",
    "\n",
    "id_processed_reviews = joint_review"
   ]
  },
  {
   "cell_type": "markdown",
   "metadata": {},
   "source": [
    "4) Standardizing words\n",
    "\n",
    "Sometimes words are not in proper formats. For example: “I looooveee you” should be “I love you”. Simple rules and regular expressions can help solve these cases."
   ]
  },
  {
   "cell_type": "markdown",
   "metadata": {},
   "source": [
    "##### English"
   ]
  },
  {
   "cell_type": "code",
   "execution_count": 21,
   "metadata": {
    "collapsed": true
   },
   "outputs": [],
   "source": [
    "joint_review = []\n",
    "\n",
    "for id, review in enumerate(en_processed_reviews):\n",
    "    review = ''.join(''.join(s)[:2] for _, s in itertools.groupby(review))\n",
    "    tokens = word_tokenize(review)\n",
    "    \n",
    "    joint_token = []\n",
    "    for token in tokens:\n",
    "        if token not in english_vocab:\n",
    "            token = ''.join(''.join(s)[:1] for _, s in itertools.groupby(token))\n",
    "    \n",
    "        joint_token.append(token)\n",
    "    \n",
    "    joint_token_str = \" \".join(joint_token)   \n",
    "    joint_review.append(joint_token_str)\n",
    "\n",
    "en_processed_reviews = joint_review"
   ]
  },
  {
   "cell_type": "markdown",
   "metadata": {},
   "source": [
    "##### Indo"
   ]
  },
  {
   "cell_type": "code",
   "execution_count": 22,
   "metadata": {
    "collapsed": true
   },
   "outputs": [],
   "source": [
    "joint_review = []\n",
    "\n",
    "for id, review in enumerate(id_processed_reviews):\n",
    "    review = ''.join(''.join(s)[:2] for _, s in itertools.groupby(review))\n",
    "    tokens = word_tokenize(review)\n",
    "    \n",
    "    joint_token = []\n",
    "    for token in tokens:\n",
    "        if token not in english_vocab:\n",
    "            token = ''.join(''.join(s)[:1] for _, s in itertools.groupby(token))\n",
    "    \n",
    "        joint_token.append(token)\n",
    "    \n",
    "    joint_token_str = \" \".join(joint_token)   \n",
    "    joint_review.append(joint_token_str)\n",
    "\n",
    "id_processed_reviews = joint_review"
   ]
  },
  {
   "cell_type": "markdown",
   "metadata": {},
   "source": [
    "#### Display both training data"
   ]
  },
  {
   "cell_type": "code",
   "execution_count": 23,
   "metadata": {},
   "outputs": [
    {
     "name": "stdout",
     "output_type": "stream",
     "text": [
      "1) i love the concept i feel like in swiss traditional market the place be amaze the food be awesome but in my opinion they need to make a changerotation in menu or even new menu i choose this place for lunch frequently sometimes i feel bore with the menu overall thank marche for the delicious food also the nice place\n",
      "\n",
      "2) very good and very delish gokils deh enaknya highly recomended gyutan semur iga sapi ayam pangang very good and all the deserts also very good\n",
      "\n",
      "3) best place to date someone good ambiance nice interior decent price use to be best hamburger but my favorite be their alfredo or carbonara prince house seharusnya saya rate 50 its just their affordable waffle no longer there the price be not worth anymore\n",
      "\n",
      "4) cheese cake nya juara lembut tempatnya enak cozy parkiranya pun lumayan luas\n",
      "\n",
      "5) been here twice and waktu itu gue ke sini pas udah rada malem as you know wargih ini selalu rame gapernah sepi\n",
      "\n",
      "6) great concept relatable with its name marche the food varieties arent that many i always come here only for the roast chicken because the price be nt high at all good interior\n",
      "\n",
      "7) best bingsu yg pernah gue coba paling mirip sama aslinya yg di korea pesen patbingsu shave icenya kerasa bgt milknya dan red beanya bukan yg kasar tapi yg halus emang khas koreanya bgt untuk bungeopangnya sih so so terlalu banyak tepungnya tapi buat bingsunya sih recommend abis tempatnya jg unik bgt lucu bisa buat foto2 hehe\n",
      "\n",
      "8) nice place to chill with try to come here at night its beautiful perfect place to spend with family or lover you can pick your own seafod fresh when you enter this restaurant with balinese gamelan at night and ocean sound even you can sit right in the beach and feel ocean wave under your fet perfect getaway\n",
      "\n",
      "9) the first outlet in scbd be one of my favorite place to go in jakarta asides from the very tasty healthy options that they are offer ambience be very cosy also great service that give you great vibe price be super affordable i can safely say that you get what u pay for and that is a 5 so i ca nt wait for the plaza senayan one to open and wander around the mall with smothie bowl in my hand\n",
      "\n",
      "10) another fave place at ps been here often tho i never try the main course because i mainly come for dessert coffee and snack i must say garcon be offer lot of nice dessert and coffee their macaron taste nice profiteroles taste good and yes i once have escargot which also taste good the only lack about garcon be their humid smoke area\n",
      "\n",
      "11) always choose cofesmith as a place to study with my friends yes bcs i dont have to deal with the traffic bcs it be locate + 50 m from my house tempat nya enak banget nyaman banget dan orang2 disini ramah banget bikin mau kesini terus apalagi kalau ada aga hahahaha\n",
      "\n",
      "12) first time go here so shock to see tempatnya kecil banget cuma ada like 10 seat yang bagus cuma buat foto2 itupun rame harus nungu pesen almond chocolate 50k coconut breeze 50k mango sunshine 50k rasanya okay2 aja nothing special sih aku pal suka coconut breeze but my friends like the almond chocolate one\n",
      "\n",
      "13) i do nt like dessert tapi menurut temen2 ane desertnya enak dan service disini sopan banget untuk harga mungkin agak mahal ya pesen 2 dessert 1mango juice sama 1 passion tea totalnya 150 rb an sudah di diskon 30\n",
      "\n",
      "14) been here last friday night with my office mat and it be great my good note be 1 pilihan menunya banyak banget mostly enak and i try them all hahaha 2 bebek peking sate desertnya juara 3 tempatnya gede banget lavish apalagi yang ada di sayap kiri keren banget buat foto2 4 serving stafnya ramah fast response yang agak nga sreg mungkin cuma western fodnya somehow berasa biasa aja in overall this place be pricey we spend + 50k each but it is all about 5 star fods ambience service worth lah sama harganya ps thank jinni for the treat in case you read this haha\n",
      "\n",
      "15) this place be nice well organize the waiters be kind to us they food also taste good recomended for those who love japanese cuisine because it is authentic the spider roll be nice it is crunchy the salmon teriyaki be also good the ambience of the restaurant be relax a good place to get a short break during a stresful day\n",
      "\n",
      "16) a small but cozy culinary hideout in south jakarta very tasty indonesian cuisine the nasi cakalang nasi limo and nasi ayam pecel be the mustry dish too bad for the slow service come prepare maybe call ahead for the menu items you want or face a lengthy wait while the food to be serve i should have dock another half a point for let smokers smoke inside while there be a smoke section at the back\n",
      "\n",
      "17) good taste overall not very generous portion very long service time idk if something happen to their kitchen or do someone miss a shift on my visit but whatever it be sure make my experience here a bad one hope the ample room for operational improvement be quicky fulfil\n",
      "\n",
      "18) great place tempatnya nyaman banget spacious makananya juga enak gue pesen cumi dan bebek dengan nasi hainam super yummy too bad gue ga sempet nyobain dimsum nya karenalast order untuk dimsum di jam 8 i will have dimsum some other time for sure\n",
      "\n",
      "19) the crab be so big no wonder the price be expensive 390 rb you can choose how will they cook it butter cook sweet and sour curry or just boil it\n",
      "\n",
      "20) love the ambience of this place apalagi yg outdoor sejuk suka sama kopinya terutama red velvet ice latenya enak will be back again for more\n",
      "\n",
      "21) first time here i go here today with my friends to study together because we are on midterm this place be nt big but very cozy for me with nice music if you want to order you can directly go to the cashier so i order bq beef burger beef lettuce onion bacon bq sauce 35k my other friends order brown mushroom beef burger 30k and chicken hash 35k i love to eat bq beef burger very delicious i recommend u to order it when you are here and also mushroom burger too if you love mushroom sauce i am not really love it cause i do nt like mushroom sauce and for chicken hash my friend say that too much fry not that chicken\n",
      "\n",
      "22) i would nt recommend their breakfast menu as most of them be overprice for the portion and quality of the food the egg benedict come in very small portion cost a whop 60k and taste average while their 45k tiny bowl of granola fail to satisfy but apart from these weakneses the all day din menu be pretty decent\n",
      "\n"
     ]
    }
   ],
   "source": [
    "# uncomment this to display the last processed text for english\n",
    "display_reviews(en_processed_reviews)"
   ]
  },
  {
   "cell_type": "code",
   "execution_count": 24,
   "metadata": {
    "scrolled": false
   },
   "outputs": [
    {
     "name": "stdout",
     "output_type": "stream",
     "text": [
      "1) sengaja macet2an kesini cuman buat nyobain nasi goreng cakalang orang2 bilang enak dan emang beneran enak sih nasi goreng wkw suasana nya enak buat makan ramai2 gitu\n",
      "\n",
      "2) suka sama bebek karna dulu d ajak tmn makan sini eh malah jd tagih sama daging yg empuk sambel mentah nya yg dasyat dulu tempat tenda sekarang udh kios kursi lumayan banyak toilet nya juga kalo makan bebek selalu order bebek nasi uduk sate rempela sambel mentah ekstra pedas es teh manis sambel mentah nya request pedas\n",
      "\n",
      "3) tempat dessert kelapa fresh banget kalo kesini paling suka beli coco pouchnya ngobrol sama temen harga nya sahabat banget lumayan banyak isi coco pouch nya paling suka coco pouch rasa honeydew asa seger banget bener energy potion\n",
      "\n",
      "4) tryin menya sakura ramen for the first time with bunch of my friends first we re bit doubting but the sign in front of resto quite big sayin that japan no 1 ramen so we decided to give it a try most of us tryin the tonkotsu ramen the spicy one the broth was quite thick than other ramen resto but the meat was so moist and tender so it well combination surely come again\n",
      "\n",
      "5) tadi gue first time lewat beji pas lewat dpn cafe gue lgsng trtarik buat dtg karna baru bgt buka gue mesen beberapa makan roti choco crunch sosis and potato pke sauce bq apa tau nama lupa sm pizza mie pake topping smoked beef gilak gue rasa utk servis msh hrs byk ajar deh gak kyk td layan gak peka masih kaku gt terus masa gue dah hampir 30menit lama gak satu mknan yg dtg trs cwok gue mangil waitersnya nanya mknanya dah jd apa mas2 nya blg maf mas td bingung cari yg mesen buset deh trnyata bener meja sblah gue kyknya dah mulai bosen layan lihat pd bingung so klo mnrt gue dri segi makan sih lumayan service prosedur layan sih yg mesti jd concern kliatan bgt blm ready pdhal tempat dah keren luas bgt interior keren smga terus maju\n",
      "\n",
      "6) \n",
      "\n",
      "7) tempat nya mungil pas masuk langsung ketemu sama meja kasir pesan langsung di situ rasa kopi nya aku suka banget buat harga standar layan nya ramah banget enak ajak ngobrol soal kopi saran sih diluasin tempat smoking area is to small and hot\n",
      "\n",
      "8) enak murah nagih sate jepang lebih bumbu mungkin kaya kushiyaki terus sen onigiri tuna gak suka tuna onigiri original nya kok lebih prefer makan mobil sih mas nya mau nganter soal kursi dikit terus gelap kalo kesini jam 7 biar cepet dapet gak abis onigirinya soal udh jam 8an rame banget ngantrinya lama kadang malah suka udah abis kalo weekend this is my best pocket friendly place\n",
      "\n",
      "9) satu roti pasti gw beli sini roti mochi choco chip nya pas awal bokap beli liat koq biasa aja tp pas makan rasa unik banget crispy luar dalem kenyel2 kaya mochi trus ada choco chipnya semua nyatu banget udah deh cukup satu roti aja gw recommend kalo ga percaya perhatin aja tu roti plg sering habis gres\n",
      "\n",
      "10) tempat benar besar tata terlalu rapi fit-in di lantai 2 nya tambah pelayanananya lama dingetin dulu baru bikin selang 1 jam baru makan antar padahal mie kuah suasana berisik memang cocok main paling berisik kalo main jenga padu bunyi batang meja kayu nya sangat wow overall kalo emang tuju mau main hangout silah kesini kalau suka suasana tenang i do n t recommend you to eat here\n",
      "\n",
      "11) akhir makan sini bingung mau makan siang deket kantor daerah cbd bintaro cerita bosen makan gedung kantor sendiri terus sat kunjung saya teman duduk lantai 1 nya non smoking area untuk tempat cukup nyaman rasa tingi meja kursi kurang nyaman makan karena meja pendek tetapi juga meja yang tingi kok terus teman sama mes teh tarik dingin kami teh tarik kurang asa kemudian kami coba menu soto nasi bal nya dua nya cukup enak pertama kali kunjung dan harga sangat jangkau\n",
      "\n",
      "12) datang sini cuma makan dimsum sudah keburu makan tempat entah hari rasa dimsumnya kurang oke atau mungkin benar perut sudah kenyang cara seluruh sih boleh lah dimsum sini jadi sasar brunch ngemil iseng tapi seperti saing lebih berat suka masakan sini restoran benar luar biasa sejak zaman tempo dulu sekarang restoran tetap terus jaya ciri khas makan lezat kualitas bagus memang harga makan sini mahal pas masakan nya pas harga nya suka 3\n",
      "\n",
      "13) shaokaonya enak bumbu pas bakar pas ga terlalu kering harga ga terlalu mahal plus sering ad diskon very recomended\n",
      "\n",
      "14) martabak pecenongan 65a never disapoints me adon tebal maupun yg tipis enak topingnya kasih limpah harga pas pokok the best martabak maker deh tempat bersih saji oke aka higenis mas mas nya ramah plus tampung kritik saran instanya martabak65a di contact person sendiri what you should try -martabak grentea tipis ovomaltine keju -martabak tebal red velvet oreo cream cheese hrs gabung -martabak grentea tebal keju grentea kitkat\n",
      "\n",
      "15) ke sini penasaran dapat rating 4 zomato pesan dim sum hakau siomay kaki ayam dumpling udang mayo lumpia udang kulit tahu plus baked pasta bolognaise rasa dim sum biasa aja siomay below par hakau not bad goreng enak lumpia udang kulit tahu suprisingly enak makan dua 170\n",
      "\n",
      "16) enak nih chinese food nya harga nya gak mahal lumayan buat rekomendasi gak nyesel dah warung9 kapan kapan mampir bos mantap nasi goreng seafod nya dah nyoba bikin ane ken balik penasaran ma tuh rsep nya kaya harum kare nya gitu deh\n",
      "\n",
      "17) salah satu kios makan blok s sering pesan nasi goreng enak gurih sering sen nasi goreng bakso sosis letak deret bakso blok s enga kalah nikmat\n",
      "\n",
      "18) tempat enak nyaman kursi walaupun kecil sih tp dekorasi bagus layan cepet bgt aku sen steamboat spesial kuah tom yum rasa enak seger sih kenyang bgt buat makan ber 3 nasi recomended deh\n",
      "\n",
      "19) selalu order crispy dor selalu masak kalau pesan beda crispy chicken nya yg terkadang langsung goreng kita pesan sabar tungu lama krn dor nya enak sekali paling suka pesan wedges potato ah i m in love with this kind of potato tempat cozy gak berisik posisi pojok\n",
      "\n",
      "20) malam baru sini liat ig dessert nya lucu caty gt dan w sendiri suka bgt sm kucing akhir aq ajak baebae k sini hipy aq sen pusylicious sm vanila milk lumayan lg disc 50 hihihihi d you are still cute my pussy kity-cat pusylicious meaw let s dessert smile emoticon smile emoticon\n",
      "\n",
      "21) harga mahal porsi sedikit rasa biasa aja overall tidak worth it cukup sekali aja sini moga depan banyak ubah\n",
      "\n",
      "22) tempat luas sekali cocok family gathering makan rame2 bareng temen kantor makan lumayan enak menu banyak dr menu yg pesan aku paling suka buncis goreng sm cumi goreng tepung sayang sambelnya kurang pedes hehe\n",
      "\n",
      "23) bakso akiaw bakso yg cukup kenal daerah mabes manga besar tempat pernah sepi unjung selalu ramai sat weekend tapi walaupun selalu waiting list tp tidak butuh waktu lama sdh tempat duduk saya mes kwetiaw bakso campur babat daging saji cukup unik beda dgn bakso pd umum kwetiaw bakso saji piring beda porsi cukup besar untuk sambal pakai sambel hijau yg encer lumayan pedes overall rasa enak next time i l come back\n",
      "\n",
      "24) pertama kali ajak kesini sih bingung kok tempat kecil gak liat jalan raya tp kita masuk langsung order ice coffee vietnam nutela late nungu temen lain nutela late nya enak lumayan kental porsi mini coffee vietnamnya so so lah semua ngumpul baru sen singkong keju meski keju dikit oke lah tutup sama tekstur singkong lembut potato weges nya enak recomended la\n",
      "\n",
      "25) warung ngedot gue sen susu rasa grentea rasa green tea nya kurang asa but the milk its so fresh tempat nya kecil indoor outdoor lumayan buat kumpul2 sama temen2 terus gue sen gue kue cubit tuna kurang greget jujur hehe untuk harga standar buat kantong mahasiswi layan nya ramah\n",
      "\n",
      "26) pilih tepat klo mau makan steak enak harga pas kantong yep joni steak tau gw sh 2 cabang jkt satu pasar baru satu lg gajah mada pertama x makan sini ajak temen mantab luar biasa dah layan cepat rasa maknyus harga pas kantong apalagi ukur steak tenderloin banyak itu yah mungkin banyak steak2 laenya yg lebih enak tp klo mau milih yg enak value for money coba joni steak favorite menu makan sini salmon steaknya rasa ga amis2nya gt fresh sih tambah sambal bangkok selada yg sangat yummy jaman pertama x makan sini saji pake piring hotplate klo sekarang2 disajin piring biasa yah tp tetep oke\n",
      "\n",
      "27) pulang kantor daerah menteng cikini trus bingung mau makan liat zomato kata sini salah satu recomended so here i was tempat lumayan lucu indoor outdoor smoking area they have al-day breakfast menu plus many selection of pastries quiche sen aglio olio with shrimp mushroom truffle pizza wow surprisingly enak enak lho pizanya trufle-nya pas over powering crustnya enak tipis tp ga tipis spaghetinya enak al dente seasoning garlic and peper-nya pas cuma porsi begitu besar harga masuk oke di lokasi daerah cikini menteng oia ini punya promo disc 20 food only with bc credit card min transaction 275rb\n",
      "\n",
      "28) waktu ke kiyadon sama saudara traktir p at first layan bagus cepet friendly untuk makananha sen salmon sashimi as always our fav salmon salad potato salad jumbo dragon roll honestly uenak banget sampe sen 2x jadi makan cuma doang overall nice place\n",
      "\n"
     ]
    }
   ],
   "source": [
    "# uncomment this to display the last processed text for indonesian\n",
    "display_reviews(id_processed_reviews)"
   ]
  },
  {
   "cell_type": "markdown",
   "metadata": {},
   "source": [
    "## Text to Features"
   ]
  },
  {
   "cell_type": "markdown",
   "metadata": {},
   "source": [
    "**Text to Features (Feature Engineering on text data)**\n",
    "\n",
    "1) Syntactical Parsing\n",
    "- Dependency Grammar\n",
    "- Part of Speech Tagging\n",
    "\n",
    "2) Entity Parsing\n",
    "- Phrase Detection\n",
    "- Named Entity Recognition\n",
    "- Topic Modelling\n",
    "- N-Grams\n",
    "\n",
    "3) Statistical features\n",
    "- TF – IDF\n",
    "- Frequency / Density Features\n",
    "- Readability Features\n",
    "\n",
    "4) Word Embeddings"
   ]
  },
  {
   "cell_type": "markdown",
   "metadata": {},
   "source": [
    "## RNN - Text Classification"
   ]
  }
 ],
 "metadata": {
  "kernelspec": {
   "display_name": "Python 3",
   "language": "python",
   "name": "python3"
  },
  "language_info": {
   "codemirror_mode": {
    "name": "ipython",
    "version": 3
   },
   "file_extension": ".py",
   "mimetype": "text/x-python",
   "name": "python",
   "nbconvert_exporter": "python",
   "pygments_lexer": "ipython3",
   "version": "3.6.3"
  }
 },
 "nbformat": 4,
 "nbformat_minor": 2
}
